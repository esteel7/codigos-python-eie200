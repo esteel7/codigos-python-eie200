{
 "cells": [
  {
   "cell_type": "markdown",
   "metadata": {},
   "source": [
    "# **Try y Except**\n",
    "\n",
    "En Python, las estructuras <code>try</code> y <code>except</code> se utilizan para manejar excepciones, que son errores que ocurren durante la ejecución de un programa. Al usar estas estructuras, puedes evitar que tu programa se bloquee debido a un error inesperado y en su lugar manejarlo de manera controlada.\n",
    "\n",
    "Aquí te explico cómo funcionan:\n",
    "\n",
    "### **Estructura básica**\n",
    "\n",
    "```python\n",
    "try:\n",
    "    # Código que quieres intentar ejecutar\n",
    "except:\n",
    "    # Código que se ejecuta si ocurre una excepción\n",
    "```"
   ]
  },
  {
   "cell_type": "markdown",
   "metadata": {},
   "source": [
    "### **Ejemplo simple**\n"
   ]
  },
  {
   "cell_type": "code",
   "execution_count": 1,
   "metadata": {},
   "outputs": [
    {
     "name": "stdout",
     "output_type": "stream",
     "text": [
      "Ocurrió un error al intentar dividir.\n"
     ]
    }
   ],
   "source": [
    "try:\n",
    "    resultado = 10 / 0  # Esto causará un error de división por cero\n",
    "except:\n",
    "    print(\"Ocurrió un error al intentar dividir.\")\n"
   ]
  },
  {
   "cell_type": "markdown",
   "metadata": {},
   "source": [
    "### **Desglose**\n",
    "- <code>try</code>: Aquí pones el código que quieres intentar ejecutar. Python intentará ejecutar todo el código dentro de este bloque.\n",
    "- <code>except</code>: Si ocurre una excepción en el bloque try, el flujo del programa se detiene en el punto del error, y se ejecuta el bloque except.\n",
    "### **Manejo de excepciones específicas**\n",
    "Puedes manejar diferentes tipos de excepciones de manera separada utilizando varios bloques <code>except</code>."
   ]
  },
  {
   "cell_type": "code",
   "execution_count": 2,
   "metadata": {},
   "outputs": [
    {
     "name": "stdout",
     "output_type": "stream",
     "text": [
      "No se puede dividir entre cero.\n"
     ]
    }
   ],
   "source": [
    "try:\n",
    "    resultado = 10 / 0\n",
    "except ZeroDivisionError:\n",
    "    print(\"No se puede dividir entre cero.\")\n",
    "except ValueError:\n",
    "    print(\"Ocurrió un error de valor.\")\n"
   ]
  },
  {
   "cell_type": "markdown",
   "metadata": {},
   "source": [
    "En este ejemplo, se captura específicamente la excepción <code>ZeroDivisionError</code>, que ocurre cuando intentas dividir por cero. Si ocurriera otro tipo de error, como un <code>ValueError</code>, también podrías capturarlo con un bloque <code>except</code> separado.\n",
    "\n",
    "### **Clausula else y finally**\n",
    "- <code>else</code>: Este bloque se ejecuta si no ocurre ninguna excepción en el bloque <code>try</code>.\n",
    "- <code>finally</code>: Este bloque se ejecuta siempre, ocurra o no una excepción."
   ]
  },
  {
   "cell_type": "code",
   "execution_count": null,
   "metadata": {},
   "outputs": [],
   "source": [
    "try:\n",
    "    resultado = 10 / 2\n",
    "except ZeroDivisionError:\n",
    "    print(\"No se puede dividir entre cero.\")\n",
    "else:\n",
    "    print(f\"El resultado es {resultado}.\")\n",
    "finally:\n",
    "    print(\"Este bloque se ejecuta siempre.\")\n"
   ]
  },
  {
   "cell_type": "markdown",
   "metadata": {},
   "source": [
    "Aquí, si la división se realiza sin problemas, el bloque <code>else</code> se ejecutará. El bloque <code>finally</code> se ejecuta independientemente de si ocurrió una excepción o no.\n",
    "\n",
    "Estas estructuras te permiten manejar errores de manera más robusta y controlada en tu código."
   ]
  }
 ],
 "metadata": {
  "kernelspec": {
   "display_name": "Python 3",
   "language": "python",
   "name": "python3"
  },
  "language_info": {
   "codemirror_mode": {
    "name": "ipython",
    "version": 3
   },
   "file_extension": ".py",
   "mimetype": "text/x-python",
   "name": "python",
   "nbconvert_exporter": "python",
   "pygments_lexer": "ipython3",
   "version": "3.11.9"
  }
 },
 "nbformat": 4,
 "nbformat_minor": 2
}
