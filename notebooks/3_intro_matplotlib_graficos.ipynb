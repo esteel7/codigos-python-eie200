{
 "cells": [
  {
   "cell_type": "markdown",
   "id": "366356e5",
   "metadata": {},
   "source": [
    "\n",
    "# Creación de Gráficos con Matplotlib  \n",
    "**Curso:** Programación Numérica  \n",
    "**Objetivo:** Aprender a crear gráficos personalizados en Python usando `matplotlib`.\n",
    "\n",
    "En este notebook veremos:  \n",
    "- Creación de figuras y subgráficos  \n",
    "- Graficar funciones escalares y vectoriales  \n",
    "- Configurar títulos, etiquetas y leyendas  \n",
    "- Usar LaTeX en los textos  \n",
    "- Dibujar flechas con `quiver`  \n"
   ]
  },
  {
   "cell_type": "markdown",
   "id": "2e2a0078",
   "metadata": {},
   "source": [
    "\n",
    "## 1. Importar librerías necesarias\n",
    "Usaremos `numpy` para generar datos y `matplotlib.pyplot` para graficarlos.\n"
   ]
  },
  {
   "cell_type": "code",
   "execution_count": null,
   "id": "145a335a",
   "metadata": {},
   "outputs": [],
   "source": [
    "\n",
    "import numpy as np\n",
    "import matplotlib.pyplot as plt\n"
   ]
  },
  {
   "cell_type": "markdown",
   "id": "6a662db2",
   "metadata": {},
   "source": [
    "\n",
    "## 2. Definir los datos  \n",
    "Generaremos:  \n",
    "- Un conjunto de valores `x` y `t` igualmente espaciados.  \n",
    "- Una función escalar \\( f(x) = x^2 \\).  \n",
    "- Una función vectorial \\( \\mathbf{F}(t) = (t, t^2) \\).\n"
   ]
  },
  {
   "cell_type": "code",
   "execution_count": null,
   "id": "4cc94ff9",
   "metadata": {},
   "outputs": [],
   "source": [
    "\n",
    "# Valores para x y t\n",
    "t = np.linspace(-2, 2, 400)\n",
    "x = np.linspace(-2, 2, 400)\n",
    "\n",
    "# Función escalar f(x) = x^2\n",
    "f_x = x**2\n",
    "\n",
    "# Componentes de la función vectorial F(t) = (t, t^2)\n",
    "F1_t = t\n",
    "F2_t = t**2\n"
   ]
  },
  {
   "cell_type": "markdown",
   "id": "343fa018",
   "metadata": {},
   "source": [
    "\n",
    "## 3. Creación de figura y subgráficos\n",
    "`plt.subplots(filas, columnas, figsize=(ancho, alto))` nos permite crear múltiples ejes de forma ordenada.\n",
    "\n",
    "En este caso:  \n",
    "- `fig` es la figura completa.  \n",
    "- `ax` es un arreglo con cada subgráfico.\n"
   ]
  },
  {
   "cell_type": "code",
   "execution_count": null,
   "id": "a3255675",
   "metadata": {},
   "outputs": [],
   "source": [
    "\n",
    "fig, ax = plt.subplots(1, 2, figsize=(12, 6))  # 1 fila, 2 columnas\n"
   ]
  },
  {
   "cell_type": "markdown",
   "id": "995a50ad",
   "metadata": {},
   "source": [
    "\n",
    "## 4. Gráfico de una función escalar\n",
    "Usamos:  \n",
    "- `.plot()` para dibujar la curva.  \n",
    "- `.set_title()` para el título.  \n",
    "- `.set_xlabel()` y `.set_ylabel()` para etiquetas.  \n",
    "- `.grid(True)` para mostrar cuadrícula.  \n",
    "- `.legend()` para la leyenda.\n",
    "\n",
    "Podemos usar notación LaTeX encerrando el texto entre `$...$`.\n"
   ]
  },
  {
   "cell_type": "code",
   "execution_count": null,
   "id": "caf43443",
   "metadata": {},
   "outputs": [],
   "source": [
    "\n",
    "ax[0].plot(x, f_x, label=r\"$f(x) = x^2$\")\n",
    "ax[0].set_title(\"Función Escalar $f(x) = x^2$\")\n",
    "ax[0].set_xlabel(\"x\")\n",
    "ax[0].set_ylabel(\"f(x)\")\n",
    "ax[0].grid(True)\n",
    "ax[0].legend()\n"
   ]
  },
  {
   "cell_type": "markdown",
   "id": "7e3b234c",
   "metadata": {},
   "source": [
    "\n",
    "## 5. Gráfico de una función vectorial\n",
    "Además de `.plot()`, usaremos `.quiver()` para dibujar flechas representando vectores en puntos específicos.\n",
    "\n",
    "Argumentos de `quiver`:  \n",
    "- Coordenadas de origen de las flechas (`x`, `y`).  \n",
    "- Componentes del vector (`u`, `v`).  \n",
    "- `scale` para ajustar el tamaño de las flechas.  \n",
    "- `color` para definir su color.\n"
   ]
  },
  {
   "cell_type": "code",
   "execution_count": null,
   "id": "da3ca50d",
   "metadata": {},
   "outputs": [],
   "source": [
    "\n",
    "ax[1].plot(F1_t, F2_t, label=r\"$\\mathbf{F}(t) = (t, t^2)$\")\n",
    "\n",
    "# Flechas cada 40 puntos\n",
    "ax[1].quiver(F1_t[::40], F2_t[::40], np.ones_like(F1_t[::40]), 2*F1_t[::40], \n",
    "             scale=20, color='r')\n",
    "\n",
    "ax[1].set_title(\"Función Vectorial $\\mathbf{F}(t) = (t, t^2)$\")\n",
    "ax[1].set_xlabel(\"x(t)\")\n",
    "ax[1].set_ylabel(\"y(t)\")\n",
    "ax[1].grid(True)\n",
    "ax[1].legend()\n"
   ]
  },
  {
   "cell_type": "markdown",
   "id": "eae983aa",
   "metadata": {},
   "source": [
    "\n",
    "## 6. Ajustar y mostrar\n",
    "`plt.tight_layout()` ajusta automáticamente los espacios entre subgráficos.\n"
   ]
  },
  {
   "cell_type": "code",
   "execution_count": null,
   "id": "9778e662",
   "metadata": {},
   "outputs": [],
   "source": [
    "\n",
    "plt.tight_layout()\n",
    "plt.show()\n"
   ]
  },
  {
   "cell_type": "markdown",
   "id": "55f82866",
   "metadata": {},
   "source": [
    "\n",
    "## 📝 Ejercicio  \n",
    "1. Cambia la función escalar por \\( f(x) = \\sin(x) \\).  \n",
    "2. Cambia la función vectorial por \\( \\mathbf{F}(t) = (\\cos(t), \\sin(t)) \\) y observa el campo vectorial resultante.  \n"
   ]
  }
 ],
 "metadata": {
  "language_info": {
   "name": "python"
  }
 },
 "nbformat": 4,
 "nbformat_minor": 5
}
