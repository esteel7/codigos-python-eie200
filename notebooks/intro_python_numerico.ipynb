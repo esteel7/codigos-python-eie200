{
 "cells": [
  {
   "cell_type": "markdown",
   "id": "213a565d",
   "metadata": {},
   "source": [
    "\n",
    "# Introducción a Python para Programación Numérica\n",
    "**Curso:** Programación Numérica  \n",
    "**Objetivo:** Familiarizarse con la sintaxis y elementos básicos de Python para estudiantes con experiencia en MATLAB.\n",
    "\n",
    "---\n"
   ]
  },
  {
   "cell_type": "markdown",
   "id": "829a004c",
   "metadata": {},
   "source": [
    "\n",
    "## 1. Primeros pasos: Sintaxis básica y diferencias con MATLAB\n",
    "En MATLAB, no es necesario indicar tipo de variable. En Python también es así, pero la sintaxis usa `=` y no requiere `;` al final.\n"
   ]
  },
  {
   "cell_type": "code",
   "execution_count": 1,
   "id": "906c973f",
   "metadata": {},
   "outputs": [
    {
     "name": "stdout",
     "output_type": "stream",
     "text": [
      "La suma es: 7\n"
     ]
    }
   ],
   "source": [
    "\n",
    "a = 5\n",
    "b = 2\n",
    "suma = a + b\n",
    "print(\"La suma es:\", suma)  # En MATLAB usarías: disp(a + b)\n"
   ]
  },
  {
   "cell_type": "markdown",
   "id": "d8b875f4",
   "metadata": {},
   "source": [
    "\n",
    "**💡 Ejercicio:**  \n",
    "Declara dos variables `x` y `y` con valores numéricos y calcula la suma, resta, multiplicación y división.\n"
   ]
  },
  {
   "cell_type": "markdown",
   "id": "d2501c1d",
   "metadata": {},
   "source": [
    "\n",
    "## 2. Tipos de datos numéricos y operaciones\n",
    "Python soporta enteros (`int`), decimales (`float`) y números complejos (`complex`).\n"
   ]
  },
  {
   "cell_type": "code",
   "execution_count": 2,
   "id": "6ad6b1d0",
   "metadata": {},
   "outputs": [
    {
     "name": "stdout",
     "output_type": "stream",
     "text": [
      "<class 'int'> <class 'float'> <class 'complex'>\n",
      "Potencia: 8\n",
      "División entera: 3\n",
      "Resto: 1\n"
     ]
    }
   ],
   "source": [
    "\n",
    "entero = 7            # int\n",
    "decimal = 3.14        # float\n",
    "complejo = 2 + 3j     # complex\n",
    "\n",
    "print(type(entero), type(decimal), type(complejo))\n",
    "\n",
    "# Operaciones\n",
    "print(\"Potencia:\", 2**3)      # En MATLAB: 2^3\n",
    "print(\"División entera:\", 7 // 2)  # En MATLAB: floor(7/2)\n",
    "print(\"Resto:\", 7 % 2)        # En MATLAB: mod(7,2)\n"
   ]
  },
  {
   "cell_type": "markdown",
   "id": "8548a94c",
   "metadata": {},
   "source": [
    "\n",
    "## 3. Entrada y salida de datos\n",
    "En MATLAB: `x = input('Ingresa un número: ');`  \n",
    "En Python:\n"
   ]
  },
  {
   "cell_type": "code",
   "execution_count": 3,
   "id": "0b6aa52a",
   "metadata": {},
   "outputs": [
    {
     "name": "stdout",
     "output_type": "stream",
     "text": [
      "Hola Rodrigo\n"
     ]
    }
   ],
   "source": [
    "\n",
    "nombre = input(\"¿Cuál es tu nombre? \")\n",
    "print(\"Hola\", nombre)\n"
   ]
  },
  {
   "cell_type": "markdown",
   "id": "3d4f1ebb",
   "metadata": {},
   "source": [
    "\n",
    "**Ejercicio:** Pide al usuario su edad y muestra cuántos años tendrá en 5 años.\n"
   ]
  },
  {
   "cell_type": "markdown",
   "id": "af2f079f",
   "metadata": {},
   "source": [
    "\n",
    "## 4. Estructuras de control\n",
    "### Condicionales\n"
   ]
  },
  {
   "cell_type": "code",
   "execution_count": 4,
   "id": "9b0dfe5b",
   "metadata": {},
   "outputs": [
    {
     "name": "stdout",
     "output_type": "stream",
     "text": [
      "x es positivo\n"
     ]
    }
   ],
   "source": [
    "\n",
    "x = 10\n",
    "if x > 0:\n",
    "    print(\"x es positivo\")\n",
    "elif x == 0:\n",
    "    print(\"x es cero\")\n",
    "else:\n",
    "    print(\"x es negativo\")\n"
   ]
  },
  {
   "cell_type": "markdown",
   "id": "d836885c",
   "metadata": {},
   "source": [
    "\n",
    "### Bucles\n"
   ]
  },
  {
   "cell_type": "code",
   "execution_count": null,
   "id": "6757e11e",
   "metadata": {},
   "outputs": [],
   "source": [
    "\n",
    "# For (en MATLAB: for i=1:5 ... end)\n",
    "for i in range(1, 6):\n",
    "    print(i)\n",
    "\n",
    "# While\n",
    "contador = 0\n",
    "while contador < 3:\n",
    "    print(\"Contador:\", contador)\n",
    "    contador += 1\n"
   ]
  },
  {
   "cell_type": "markdown",
   "id": "f0a4c709",
   "metadata": {},
   "source": [
    "\n",
    "## 5. Listas y arreglos\n",
    "En MATLAB: vectores `[1 2 3]`, matrices `[1 2; 3 4]`\n"
   ]
  },
  {
   "cell_type": "code",
   "execution_count": null,
   "id": "bfd7e0fc",
   "metadata": {},
   "outputs": [],
   "source": [
    "\n",
    "lista = [1, 2, 3, 4]\n",
    "print(\"Elemento 0:\", lista[0])  # En MATLAB el índice comienza en 1\n",
    "\n",
    "lista.append(5)  # Agregar elemento\n",
    "print(lista)\n"
   ]
  },
  {
   "cell_type": "markdown",
   "id": "e28934fe",
   "metadata": {},
   "source": [
    "\n",
    "## 6. Introducción a NumPy (para cálculos numéricos)\n"
   ]
  },
  {
   "cell_type": "code",
   "execution_count": null,
   "id": "a9b582c9",
   "metadata": {},
   "outputs": [],
   "source": [
    "\n",
    "import numpy as np\n",
    "\n",
    "v = np.array([1, 2, 3])\n",
    "m = np.array([[1, 2], [3, 4]])\n",
    "\n",
    "print(\"Vector:\", v)\n",
    "print(\"Matriz:\", m)\n",
    "\n",
    "# Operaciones\n",
    "print(\"Suma:\", v + 2)\n",
    "print(\"Producto matricial:\", np.dot(m, m))\n"
   ]
  },
  {
   "cell_type": "markdown",
   "id": "c88f787f",
   "metadata": {},
   "source": [
    "\n",
    "## 7. Funciones\n"
   ]
  },
  {
   "cell_type": "code",
   "execution_count": null,
   "id": "ad55d0b3",
   "metadata": {},
   "outputs": [],
   "source": [
    "\n",
    "def cuadrado(x):\n",
    "    return x**2\n",
    "\n",
    "print(cuadrado(5))\n"
   ]
  },
  {
   "cell_type": "markdown",
   "id": "8350e742",
   "metadata": {},
   "source": [
    "\n",
    "## 8. Ejercicio final\n",
    "Escriba un programa que:\n",
    "1. Pida al usuario el radio de un círculo.  \n",
    "2. Calcule su área y perímetro usando `math.pi`.  \n",
    "3. Muestre los resultados con 2 decimales.\n"
   ]
  },
  {
   "cell_type": "markdown",
   "id": "2980a4cb",
   "metadata": {},
   "source": [
    "\n",
    "## 9. Recursos\n",
    "* [Documentación oficial de Python](https://docs.python.org/3/)\n",
    "* [NumPy](https://numpy.org/doc/stable/)\n",
    "* [Jupyter](https://jupyter.org/)\n"
   ]
  }
 ],
 "metadata": {
  "kernelspec": {
   "display_name": "Python 3",
   "language": "python",
   "name": "python3"
  },
  "language_info": {
   "codemirror_mode": {
    "name": "ipython",
    "version": 3
   },
   "file_extension": ".py",
   "mimetype": "text/x-python",
   "name": "python",
   "nbconvert_exporter": "python",
   "pygments_lexer": "ipython3",
   "version": "3.12.3"
  }
 },
 "nbformat": 4,
 "nbformat_minor": 5
}
