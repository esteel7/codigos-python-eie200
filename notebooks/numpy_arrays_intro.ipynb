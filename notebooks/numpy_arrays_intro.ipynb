{
 "cells": [
  {
   "cell_type": "markdown",
   "id": "f997b655",
   "metadata": {},
   "source": [
    "\n",
    "# Manipulación de Arreglos con NumPy  \n",
    "**Curso:** Programación Numérica  \n",
    "**Objetivo:** Aprender a crear, modificar y consultar datos en arreglos NumPy.\n",
    "\n",
    "En esta clase veremos:  \n",
    "- Creación de arrays  \n",
    "- Indexación y slicing  \n",
    "- Mutabilidad y vistas  \n",
    "- Funciones para generar arrays especiales  \n",
    "- Copias y referencias  \n",
    "- Breve ejemplo de graficación con Matplotlib\n"
   ]
  },
  {
   "cell_type": "markdown",
   "id": "53720d88",
   "metadata": {},
   "source": [
    "\n",
    "## 1. Creación de un array y operaciones básicas\n",
    "En Python, un array de NumPy es similar a un vector o matriz en MATLAB, pero con algunas diferencias clave en la mutabilidad y el manejo de índices.\n"
   ]
  },
  {
   "cell_type": "code",
   "execution_count": 1,
   "id": "f86eb759",
   "metadata": {},
   "outputs": [
    {
     "name": "stdout",
     "output_type": "stream",
     "text": [
      "[1 2 3 4 5 6]\n",
      "6\n",
      "[10  2  3  4  5  6]\n"
     ]
    }
   ],
   "source": [
    "\n",
    "import numpy as np\n",
    "\n",
    "# Crear un arreglo de 1D\n",
    "a = np.array([1, 2, 3, 4, 5, 6])\n",
    "print(a)\n",
    "\n",
    "# Imprimir el último elemento\n",
    "print(a[-1])\n",
    "\n",
    "# Modificar un elemento (los arrays son mutables)\n",
    "a[0] = 10\n",
    "print(a)\n"
   ]
  },
  {
   "cell_type": "markdown",
   "id": "9e8ee651",
   "metadata": {},
   "source": [
    "\n",
    "## 2. Slicing (cortes) y vistas\n",
    "Al cortar un array (`slicing`), **no** se crea una copia independiente, sino una *vista* que comparte la misma memoria.  \n",
    "Esto significa que si modificamos la vista, también cambia el array original.\n"
   ]
  },
  {
   "cell_type": "code",
   "execution_count": 2,
   "id": "0b5fde15",
   "metadata": {},
   "outputs": [
    {
     "name": "stdout",
     "output_type": "stream",
     "text": [
      "[10  2  3]\n",
      "[10  2  3 40  5  6]\n"
     ]
    }
   ],
   "source": [
    "\n",
    "# Tomamos los primeros 3 elementos (esto es una vista, no una copia)\n",
    "print(a[:3])\n",
    "\n",
    "# Creamos una vista desde el índice 3 hasta el final\n",
    "b = a[3:]\n",
    "\n",
    "# Modificamos el primer elemento de la vista\n",
    "b[0] = 40\n",
    "\n",
    "# El array original también se ve modificado\n",
    "print(a)\n"
   ]
  },
  {
   "cell_type": "markdown",
   "id": "8d5da4d0",
   "metadata": {},
   "source": [
    "\n",
    "## 3. Arrays de más de una dimensión\n",
    "Podemos crear arreglos de 2D (matrices) y acceder a sus elementos usando la notación `[fila, columna]`.\n"
   ]
  },
  {
   "cell_type": "code",
   "execution_count": 3,
   "id": "bca052bc",
   "metadata": {},
   "outputs": [
    {
     "name": "stdout",
     "output_type": "stream",
     "text": [
      "[[ 1  2  3  4]\n",
      " [ 5  6  7  8]\n",
      " [ 9 10 11 12]]\n",
      "Elemento en fila 1, columna 3: 8\n"
     ]
    }
   ],
   "source": [
    "\n",
    "a = np.array([[1, 2, 3, 4],\n",
    "              [5, 6, 7, 8],\n",
    "              [9, 10, 11, 12]])\n",
    "\n",
    "print(a)\n",
    "print(\"Elemento en fila 1, columna 3:\", a[1, 3])  # En MATLAB sería a(2,4)\n"
   ]
  },
  {
   "cell_type": "markdown",
   "id": "8579fb22",
   "metadata": {},
   "source": [
    "\n",
    "## 4. Creación de arrays especiales\n",
    "NumPy ofrece funciones para crear arreglos de forma rápida:\n",
    "- `np.zeros()` → array de ceros  \n",
    "- `np.arange()` → secuencia con paso constante  \n",
    "- `np.linspace()` → secuencia con espaciado lineal\n"
   ]
  },
  {
   "cell_type": "code",
   "execution_count": 4,
   "id": "5466a83e",
   "metadata": {},
   "outputs": [
    {
     "name": "stdout",
     "output_type": "stream",
     "text": [
      "[ 0.          1.11111111  2.22222222  3.33333333  4.44444444  5.55555556\n",
      "  6.66666667  7.77777778  8.88888889 10.        ]\n"
     ]
    }
   ],
   "source": [
    "\n",
    "# Arreglo de ceros (float por defecto)\n",
    "c = np.zeros(3)\n",
    "\n",
    "# Arreglo de ceros de tipo entero\n",
    "d = np.zeros(3, dtype=np.int64)\n",
    "\n",
    "# Secuencia con paso constante\n",
    "e = np.arange(2, 9, 2)\n",
    "\n",
    "# Valores espaciados linealmente\n",
    "f = np.linspace(0, 10, 10)\n",
    "\n",
    "print(f)\n"
   ]
  },
  {
   "cell_type": "markdown",
   "id": "d3a2f1dc",
   "metadata": {},
   "source": [
    "\n",
    "## 5. Copias y referencias\n",
    "Para copiar datos de un array a otro, debemos hacerlo explícitamente para evitar modificar el original por accidente.\n"
   ]
  },
  {
   "cell_type": "code",
   "execution_count": 5,
   "id": "2a2229c1",
   "metadata": {},
   "outputs": [
    {
     "name": "stdout",
     "output_type": "stream",
     "text": [
      "[[ 3  4  5]\n",
      " [ 2  3 -1]] de tipo <class 'numpy.ndarray'>\n",
      "(2, 3) de tipo <class 'tuple'>\n",
      "[3 5 6]\n",
      "[[0. 0. 0. 0. 0.]\n",
      " [0. 0. 0. 0. 0.]\n",
      " [0. 0. 0. 0. 0.]\n",
      " [0. 0. 0. 0. 0.]]\n"
     ]
    }
   ],
   "source": [
    "\n",
    "x = np.array([[3, 4, 5], [2, 3, -1]])\n",
    "print(f\"{x} de tipo {type(x)}\")\n",
    "print(f\"{x.shape} de tipo {type(x.shape)}\")\n",
    "\n",
    "y0 = np.array([3, 5, 6])\n",
    "\n",
    "# Crear un array con la misma forma que otro\n",
    "a = np.zeros_like(y0)\n",
    "\n",
    "# Copiar valores\n",
    "a[:] = y0[:]\n",
    "\n",
    "print(a)\n",
    "\n",
    "# Matriz de ceros\n",
    "b = np.zeros([4, 5])\n",
    "print(b)\n"
   ]
  },
  {
   "cell_type": "markdown",
   "id": "fb74e27a",
   "metadata": {},
   "source": [
    "\n",
    "## 6. Mini ejemplo de graficación con Matplotlib\n",
    "Aunque veremos gráficos en detalle más adelante, podemos mostrar rápidamente cómo graficar datos de un array.\n"
   ]
  },
  {
   "cell_type": "code",
   "execution_count": 6,
   "id": "68835232",
   "metadata": {},
   "outputs": [
    {
     "data": {
      "image/png": "[encoded data removed]",
      "text/plain": [
       "<Figure size 640x480 with 1 Axes>"
      ]
     },
     "metadata": {},
     "output_type": "display_data"
    }
   ],
   "source": [
    "\n",
    "import matplotlib.pyplot as plt\n",
    "\n",
    "#Graficar el array f\n",
    "plt.plot(f, marker='o')\n",
    "plt.title(\"Ejemplo rápido de gráfica\")\n",
    "plt.xlabel(\"Índice\")\n",
    "plt.ylabel(\"Valor\")\n",
    "plt.grid(True)\n",
    "plt.show()\n"
   ]
  }
 ],
 "metadata": {
  "kernelspec": {
   "display_name": "Python 3",
   "language": "python",
   "name": "python3"
  },
  "language_info": {
   "codemirror_mode": {
    "name": "ipython",
    "version": 3
   },
   "file_extension": ".py",
   "mimetype": "text/x-python",
   "name": "python",
   "nbconvert_exporter": "python",
   "pygments_lexer": "ipython3",
   "version": "3.12.3"
  }
 },
 "nbformat": 4,
 "nbformat_minor": 5
}
