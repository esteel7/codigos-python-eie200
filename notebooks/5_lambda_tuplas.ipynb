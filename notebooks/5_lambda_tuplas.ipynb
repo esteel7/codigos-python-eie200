{
 "cells": [
  {
   "cell_type": "markdown",
   "id": "a1070707",
   "metadata": {},
   "source": [
    "\n",
    "# Funciones `lambda` en Python\n",
    "\n",
    "En Python, las **funciones `lambda`** son una forma rápida de definir funciones pequeñas y anónimas (sin nombre).\n",
    "\n",
    "La sintaxis general es:\n",
    "\n",
    "```python\n",
    "lambda argumentos: expresión\n",
    "```\n",
    "\n",
    "- No necesitan la palabra clave `def`.  \n",
    "- Se usan para operaciones cortas y simples.  \n",
    "- Devuelven automáticamente el valor de la expresión (no se escribe `return`).\n",
    "\n",
    "## Ejemplo simple\n",
    "\n",
    "```python\n",
    "# Definimos una función lambda que suma dos números\n",
    "suma = lambda x, y: x + y  \n",
    "\n",
    "print(suma(3, 4))  # Resultado: 7\n",
    "```\n",
    "\n",
    "Esto es equivalente a:\n",
    "\n",
    "```python\n",
    "def suma(x, y):\n",
    "    return x + y\n",
    "```\n"
   ]
  },
  {
   "cell_type": "code",
   "execution_count": null,
   "id": "e22cd86e",
   "metadata": {},
   "outputs": [],
   "source": [
    "\n",
    "# Ejemplo simple de función lambda\n",
    "suma = lambda x, y: x + y\n",
    "print(\"Suma 3 + 4 =\", suma(3, 4))\n"
   ]
  },
  {
   "cell_type": "code",
   "execution_count": null,
   "id": "77fcfcb2",
   "metadata": {},
   "outputs": [],
   "source": [
    "\n",
    "# Ejemplo avanzado con tuplas y desempaquetado\n",
    "\n",
    "# Lambda que devuelve una tupla con la suma y el producto\n",
    "f = lambda x, y: (x+y, x*y)\n",
    "\n",
    "# Probamos la función\n",
    "print(f(2, 4))   # (6, 8)\n",
    "\n",
    "# Desempaquetamos en dos variables\n",
    "f1, f2 = f(2, 4)\n",
    "print(\"Suma:\", f1)\n",
    "print(\"Producto:\", f2)\n"
   ]
  }
 ],
 "metadata": {},
 "nbformat": 4,
 "nbformat_minor": 5
}
