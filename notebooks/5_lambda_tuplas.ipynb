{
 "cells": [
  {
   "cell_type": "markdown",
   "id": "a1070707",
   "metadata": {},
   "source": [
    "\n",
    "## **Funciones `lambda` en Python**\n",
    "\n",
    "En Python, las **funciones `lambda`** son una forma rápida de definir funciones pequeñas y anónimas (sin nombre).\n",
    "\n",
    "La sintaxis general es:\n",
    "\n",
    "```python\n",
    "lambda argumentos: expresión\n",
    "```\n",
    "\n",
    "- No necesitan la palabra clave `def`.  \n",
    "- Se usan para operaciones cortas y simples.  \n",
    "- Devuelven automáticamente el valor de la expresión (no se escribe `return`).\n",
    "\n",
    "### **Ejemplo simple**\n",
    "\n",
    "```python\n",
    "# Definimos una función lambda que suma dos números\n",
    "suma = lambda x, y: x + y  \n",
    "\n",
    "print(suma(3, 4))  # Resultado: 7\n",
    "```\n",
    "\n",
    "Esto es equivalente a:\n",
    "\n",
    "```python\n",
    "def suma(x, y):\n",
    "    return x + y\n",
    "```\n"
   ]
  },
  {
   "cell_type": "code",
   "execution_count": 1,
   "id": "e22cd86e",
   "metadata": {},
   "outputs": [
    {
     "name": "stdout",
     "output_type": "stream",
     "text": [
      "Suma 3 + 4 = 7\n"
     ]
    }
   ],
   "source": [
    "\n",
    "# Ejemplo simple de función lambda\n",
    "suma = lambda x, y: x + y\n",
    "print(\"Suma 3 + 4 =\", suma(3, 4))\n"
   ]
  },
  {
   "cell_type": "markdown",
   "id": "ff79bf1c",
   "metadata": {},
   "source": [
    "### **Ejemplo avanzado con tuplas y desempaquetado**\n",
    "\n",
    "Una función lambda retorna siempre un único objeto; este puede ser una secuencia como una tupla, que encapsule múltiples resultados calculados a partir de los argumentos de entrada, de manera análoga a una función matemática que mapea $R^n$ en $R^m$."
   ]
  },
  {
   "cell_type": "code",
   "execution_count": 2,
   "id": "77fcfcb2",
   "metadata": {},
   "outputs": [
    {
     "name": "stdout",
     "output_type": "stream",
     "text": [
      "(6, 8)\n",
      "Suma: 6\n",
      "Producto: 8\n"
     ]
    }
   ],
   "source": [
    "\n",
    "# Lambda que devuelve una tupla con la suma y el producto\n",
    "f = lambda x, y: (x+y, x*y)\n",
    "\n",
    "# Probamos la función\n",
    "print(f(2, 4))   # (6, 8)\n",
    "\n",
    "# Desempaquetamos en dos variables\n",
    "f1, f2 = f(2, 4)\n",
    "print(\"Suma:\", f1)\n",
    "print(\"Producto:\", f2)"
   ]
  }
 ],
 "metadata": {
  "kernelspec": {
   "display_name": "Python 3",
   "language": "python",
   "name": "python3"
  },
  "language_info": {
   "codemirror_mode": {
    "name": "ipython",
    "version": 3
   },
   "file_extension": ".py",
   "mimetype": "text/x-python",
   "name": "python",
   "nbconvert_exporter": "python",
   "pygments_lexer": "ipython3",
   "version": "3.10.11"
  }
 },
 "nbformat": 4,
 "nbformat_minor": 5
}
